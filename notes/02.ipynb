{
  "nbformat": 4,
  "nbformat_minor": 0,
  "metadata": {
    "colab": {
      "provenance": []
    },
    "kernelspec": {
      "name": "python3",
      "display_name": "Python 3"
    },
    "language_info": {
      "name": "python"
    }
  },
  "cells": [
    {
      "cell_type": "markdown",
      "source": [
        "# 02 - Liczby, wyrażenia i operatory logiczne"
      ],
      "metadata": {
        "id": "kq65l3KYz8Vb"
      }
    },
    {
      "cell_type": "markdown",
      "source": [
        "## Na poprzednich zajęciach"
      ],
      "metadata": {
        "id": "qXxPE52nwTM-"
      }
    },
    {
      "cell_type": "code",
      "execution_count": 5,
      "metadata": {
        "colab": {
          "base_uri": "https://localhost:8080/"
        },
        "id": "FZ2LpI-awLAr",
        "outputId": "084f65bc-23ce-48f1-bee1-617395dc2a65"
      },
      "outputs": [
        {
          "output_type": "stream",
          "name": "stdout",
          "text": [
            "Hello World\n"
          ]
        }
      ],
      "source": [
        "print('Hello World')"
      ]
    },
    {
      "cell_type": "code",
      "source": [
        "age = 22                    # int - liczba całkowita\n",
        "price = 8.12                # float - liczba zmiennoprzecinkowa\n",
        "is_published = True         # bool - wartość logiczna (True/False)\n",
        "\n",
        "message = 'Hello world'     # str - łańcuch znaków (string)\n",
        "content = None              # NoneType - wartość pusta"
      ],
      "metadata": {
        "id": "sdXmlRPdwZLE"
      },
      "execution_count": 6,
      "outputs": []
    },
    {
      "cell_type": "code",
      "source": [
        "print('Hello')"
      ],
      "metadata": {
        "colab": {
          "base_uri": "https://localhost:8080/"
        },
        "id": "1gF_kSvHCxij",
        "outputId": "54fcbc3f-d91b-41e2-e33d-a6f21560e739"
      },
      "execution_count": 7,
      "outputs": [
        {
          "output_type": "stream",
          "name": "stdout",
          "text": [
            "Hello\n"
          ]
        }
      ]
    },
    {
      "cell_type": "code",
      "source": [],
      "metadata": {
        "id": "W34lrbgBCzXl"
      },
      "execution_count": null,
      "outputs": []
    },
    {
      "cell_type": "markdown",
      "source": [
        "## Otrzymywanie wartości od użytkownika"
      ],
      "metadata": {
        "id": "Nu033-D4DCU3"
      }
    },
    {
      "cell_type": "code",
      "source": [
        "input()"
      ],
      "metadata": {
        "colab": {
          "base_uri": "https://localhost:8080/",
          "height": 52
        },
        "id": "hzRfIoicDEQI",
        "outputId": "847f5c9f-543d-4f5a-d126-8103f2e1bc99"
      },
      "execution_count": 8,
      "outputs": [
        {
          "name": "stdout",
          "output_type": "stream",
          "text": [
            "Andrzej\n"
          ]
        },
        {
          "output_type": "execute_result",
          "data": {
            "text/plain": [
              "'Andrzej'"
            ],
            "application/vnd.google.colaboratory.intrinsic+json": {
              "type": "string"
            }
          },
          "metadata": {},
          "execution_count": 8
        }
      ]
    },
    {
      "cell_type": "code",
      "source": [
        "name = input('What is your name?')"
      ],
      "metadata": {
        "colab": {
          "base_uri": "https://localhost:8080/"
        },
        "id": "gcgVFP2nDJeq",
        "outputId": "998bc4e6-178e-42d8-acb8-b28245571cd7"
      },
      "execution_count": 9,
      "outputs": [
        {
          "name": "stdout",
          "output_type": "stream",
          "text": [
            "What is your name?Andrzej\n"
          ]
        }
      ]
    },
    {
      "cell_type": "code",
      "source": [
        "name = input('What is your name? ')\n",
        "print(name)"
      ],
      "metadata": {
        "colab": {
          "base_uri": "https://localhost:8080/"
        },
        "id": "dJ8SvTGADZyr",
        "outputId": "8ebb549f-b931-4755-f7a4-aab99424c664"
      },
      "execution_count": 10,
      "outputs": [
        {
          "output_type": "stream",
          "name": "stdout",
          "text": [
            "What is your name? Andrzej\n",
            "Andrzej\n"
          ]
        }
      ]
    },
    {
      "cell_type": "code",
      "source": [
        "print(name, 'Hello')"
      ],
      "metadata": {
        "colab": {
          "base_uri": "https://localhost:8080/"
        },
        "id": "kNuSnfYxDtDv",
        "outputId": "b6e14671-d71d-4193-af0f-2ae77789faf7"
      },
      "execution_count": 11,
      "outputs": [
        {
          "output_type": "stream",
          "name": "stdout",
          "text": [
            "Andrzej Hello\n"
          ]
        }
      ]
    },
    {
      "cell_type": "code",
      "source": [
        "name = input('What is your name? ')\n",
        "print('Hello ', name, '!', sep='')"
      ],
      "metadata": {
        "colab": {
          "base_uri": "https://localhost:8080/"
        },
        "id": "fjddiRPqD42P",
        "outputId": "e5082257-fc8e-41ac-96e9-51c3a7a89c64"
      },
      "execution_count": 15,
      "outputs": [
        {
          "output_type": "stream",
          "name": "stdout",
          "text": [
            "What is your name? Andrzej\n",
            "Hello Andrzej!\n"
          ]
        }
      ]
    },
    {
      "cell_type": "code",
      "source": [
        "number = input('Enter a number: ')\n",
        "type(number)"
      ],
      "metadata": {
        "colab": {
          "base_uri": "https://localhost:8080/"
        },
        "id": "TtJy1z85EmYB",
        "outputId": "abe46635-b11e-4347-a485-6d4dfddb7c34"
      },
      "execution_count": 17,
      "outputs": [
        {
          "name": "stdout",
          "output_type": "stream",
          "text": [
            "Enter a number: 10\n"
          ]
        },
        {
          "output_type": "execute_result",
          "data": {
            "text/plain": [
              "str"
            ]
          },
          "metadata": {},
          "execution_count": 17
        }
      ]
    },
    {
      "cell_type": "code",
      "source": [
        "number = 10\n",
        "type(number)"
      ],
      "metadata": {
        "colab": {
          "base_uri": "https://localhost:8080/"
        },
        "id": "navIuI8fEFkO",
        "outputId": "9ec5f501-d0b2-4e86-fb9a-972b8bb8d762"
      },
      "execution_count": 18,
      "outputs": [
        {
          "output_type": "execute_result",
          "data": {
            "text/plain": [
              "int"
            ]
          },
          "metadata": {},
          "execution_count": 18
        }
      ]
    },
    {
      "cell_type": "code",
      "source": [],
      "metadata": {
        "id": "cXtitwFbE5ZT"
      },
      "execution_count": null,
      "outputs": []
    },
    {
      "cell_type": "markdown",
      "source": [
        "# Typy liczbowe"
      ],
      "metadata": {
        "id": "zQCvMoIOFLjk"
      }
    },
    {
      "cell_type": "code",
      "source": [],
      "metadata": {
        "id": "rxikafu9FMlN"
      },
      "execution_count": null,
      "outputs": []
    },
    {
      "cell_type": "markdown",
      "source": [
        "### Liczby całkowite (integers, int)"
      ],
      "metadata": {
        "id": "CTei_ZaSFUxq"
      }
    },
    {
      "cell_type": "code",
      "source": [
        "print(10, 0, -10)"
      ],
      "metadata": {
        "colab": {
          "base_uri": "https://localhost:8080/"
        },
        "id": "CGTbXF1EFXX3",
        "outputId": "3700b681-8c5d-486c-fb2c-2de330c7ef75"
      },
      "execution_count": 19,
      "outputs": [
        {
          "output_type": "stream",
          "name": "stdout",
          "text": [
            "10 0 -10\n"
          ]
        }
      ]
    },
    {
      "cell_type": "code",
      "source": [
        "type(10)"
      ],
      "metadata": {
        "colab": {
          "base_uri": "https://localhost:8080/"
        },
        "id": "dK0r15vXFe5-",
        "outputId": "878c530b-8c95-4d80-bb7a-9984db8b4093"
      },
      "execution_count": 20,
      "outputs": [
        {
          "output_type": "execute_result",
          "data": {
            "text/plain": [
              "int"
            ]
          },
          "metadata": {},
          "execution_count": 20
        }
      ]
    },
    {
      "cell_type": "code",
      "source": [
        "number = 68586586587568768757646545646534654654654653543453654876658766978"
      ],
      "metadata": {
        "id": "e-VbNY77FgG_"
      },
      "execution_count": 21,
      "outputs": []
    },
    {
      "cell_type": "code",
      "source": [],
      "metadata": {
        "id": "bCH9eGwLFoa7"
      },
      "execution_count": null,
      "outputs": []
    },
    {
      "cell_type": "markdown",
      "source": [
        "### Liczby zmiennoprzecinkowe (floating-point numbers, float)"
      ],
      "metadata": {
        "id": "7c8JZpRuFtK2"
      }
    },
    {
      "cell_type": "code",
      "source": [
        "print(10.123)"
      ],
      "metadata": {
        "colab": {
          "base_uri": "https://localhost:8080/"
        },
        "id": "nZg4aLYhFxRA",
        "outputId": "029dd95b-36cd-4d9c-c428-55ed8a237d15"
      },
      "execution_count": 22,
      "outputs": [
        {
          "output_type": "stream",
          "name": "stdout",
          "text": [
            "10.123\n"
          ]
        }
      ]
    },
    {
      "cell_type": "code",
      "source": [
        "type(10.123)"
      ],
      "metadata": {
        "colab": {
          "base_uri": "https://localhost:8080/"
        },
        "id": "7TRGD6C2F0G7",
        "outputId": "4c3bc118-bc2e-4ff6-c3a9-7af900f57aa3"
      },
      "execution_count": 23,
      "outputs": [
        {
          "output_type": "execute_result",
          "data": {
            "text/plain": [
              "float"
            ]
          },
          "metadata": {},
          "execution_count": 23
        }
      ]
    },
    {
      "cell_type": "code",
      "source": [
        "print(4e2)      # 4 x 10^2"
      ],
      "metadata": {
        "colab": {
          "base_uri": "https://localhost:8080/"
        },
        "id": "jdqXnLr6F1Kz",
        "outputId": "e54cb8a3-6e37-4c3f-f40b-74131da97565"
      },
      "execution_count": 24,
      "outputs": [
        {
          "output_type": "stream",
          "name": "stdout",
          "text": [
            "400.0\n"
          ]
        }
      ]
    },
    {
      "cell_type": "code",
      "source": [
        "print(4E2)"
      ],
      "metadata": {
        "colab": {
          "base_uri": "https://localhost:8080/"
        },
        "id": "qixlOZ-PF-93",
        "outputId": "40ebe3e5-f3a8-47ff-cef7-10d61673126b"
      },
      "execution_count": 25,
      "outputs": [
        {
          "output_type": "stream",
          "name": "stdout",
          "text": [
            "400.0\n"
          ]
        }
      ]
    },
    {
      "cell_type": "code",
      "source": [
        "print(4E-2)     # 4 x 10^-2"
      ],
      "metadata": {
        "colab": {
          "base_uri": "https://localhost:8080/"
        },
        "id": "fP9vw8T0GEtf",
        "outputId": "f15e650f-a84a-441f-eb5e-ebdac636bb09"
      },
      "execution_count": 26,
      "outputs": [
        {
          "output_type": "stream",
          "name": "stdout",
          "text": [
            "0.04\n"
          ]
        }
      ]
    },
    {
      "cell_type": "code",
      "source": [],
      "metadata": {
        "id": "5QJSqBMBGO3E"
      },
      "execution_count": null,
      "outputs": []
    },
    {
      "cell_type": "markdown",
      "source": [
        "### Operatory arytmetyczne"
      ],
      "metadata": {
        "id": "sn3JWySxGT2P"
      }
    },
    {
      "cell_type": "code",
      "source": [
        "print(10 + 2)\n",
        "print(10 - 2)\n",
        "print(10 * 2)\n",
        "print(10 / 2)\n",
        "print(10 ** 2)"
      ],
      "metadata": {
        "colab": {
          "base_uri": "https://localhost:8080/"
        },
        "id": "LzkgPSgnGVmy",
        "outputId": "c2b43309-95d6-4729-f7b9-a3fb0bad0de7"
      },
      "execution_count": 27,
      "outputs": [
        {
          "output_type": "stream",
          "name": "stdout",
          "text": [
            "12\n",
            "8\n",
            "20\n",
            "5.0\n",
            "100\n"
          ]
        }
      ]
    },
    {
      "cell_type": "code",
      "source": [
        "print(10 // 2)"
      ],
      "metadata": {
        "colab": {
          "base_uri": "https://localhost:8080/"
        },
        "id": "UChm_QefGZ5Y",
        "outputId": "630c96e8-c129-4224-c428-326b94f081da"
      },
      "execution_count": 28,
      "outputs": [
        {
          "output_type": "stream",
          "name": "stdout",
          "text": [
            "5\n"
          ]
        }
      ]
    },
    {
      "cell_type": "code",
      "source": [
        "print(10 // 3)"
      ],
      "metadata": {
        "colab": {
          "base_uri": "https://localhost:8080/"
        },
        "id": "BqWln7Z9HCrN",
        "outputId": "25f27dc6-811e-483f-d7f5-15f367f8746e"
      },
      "execution_count": 29,
      "outputs": [
        {
          "output_type": "stream",
          "name": "stdout",
          "text": [
            "3\n"
          ]
        }
      ]
    },
    {
      "cell_type": "code",
      "source": [
        "# Modulo %\n",
        "print(10 % 3)"
      ],
      "metadata": {
        "colab": {
          "base_uri": "https://localhost:8080/"
        },
        "id": "Nzj1iyHmHEow",
        "outputId": "6a82956a-9fc5-4fc7-e579-f0759b043b9b"
      },
      "execution_count": 30,
      "outputs": [
        {
          "output_type": "stream",
          "name": "stdout",
          "text": [
            "1\n"
          ]
        }
      ]
    },
    {
      "cell_type": "code",
      "source": [
        "print(10 % 2)"
      ],
      "metadata": {
        "colab": {
          "base_uri": "https://localhost:8080/"
        },
        "id": "94Tf4OxOHOlu",
        "outputId": "ded64951-d385-4b8c-d398-7a8ea6e46c70"
      },
      "execution_count": 31,
      "outputs": [
        {
          "output_type": "stream",
          "name": "stdout",
          "text": [
            "0\n"
          ]
        }
      ]
    },
    {
      "cell_type": "code",
      "source": [
        "number = 10"
      ],
      "metadata": {
        "id": "KegaSgS4HYJp"
      },
      "execution_count": 32,
      "outputs": []
    },
    {
      "cell_type": "code",
      "source": [
        "x = 10\n",
        "y = 5"
      ],
      "metadata": {
        "id": "oBrEAxc9Hchc"
      },
      "execution_count": 33,
      "outputs": []
    },
    {
      "cell_type": "code",
      "source": [
        "z = y + 3"
      ],
      "metadata": {
        "id": "T3BsmTOZHeYW"
      },
      "execution_count": 34,
      "outputs": []
    },
    {
      "cell_type": "code",
      "source": [
        "print(z)"
      ],
      "metadata": {
        "colab": {
          "base_uri": "https://localhost:8080/"
        },
        "id": "FG9APe_LHnTG",
        "outputId": "0e3dab04-89a1-4b7d-8e40-4bedf4f2e07b"
      },
      "execution_count": 35,
      "outputs": [
        {
          "output_type": "stream",
          "name": "stdout",
          "text": [
            "8\n"
          ]
        }
      ]
    },
    {
      "cell_type": "code",
      "source": [
        "x = 1\n",
        "x = x + 1"
      ],
      "metadata": {
        "id": "gCReWwtRHp0e"
      },
      "execution_count": 36,
      "outputs": []
    },
    {
      "cell_type": "code",
      "source": [
        "print(x)"
      ],
      "metadata": {
        "colab": {
          "base_uri": "https://localhost:8080/"
        },
        "id": "HSuUKo1nHtEw",
        "outputId": "23698c08-3db5-4cfc-be1f-08a0ae396c01"
      },
      "execution_count": 37,
      "outputs": [
        {
          "output_type": "stream",
          "name": "stdout",
          "text": [
            "2\n"
          ]
        }
      ]
    },
    {
      "cell_type": "code",
      "source": [
        "x = x - 1"
      ],
      "metadata": {
        "id": "nfldDRObH65p"
      },
      "execution_count": 38,
      "outputs": []
    },
    {
      "cell_type": "code",
      "source": [
        "x = x * 2"
      ],
      "metadata": {
        "id": "GNc-KqftH-gN"
      },
      "execution_count": 39,
      "outputs": []
    },
    {
      "cell_type": "code",
      "source": [
        "x = 1"
      ],
      "metadata": {
        "id": "JOsIe_RYH_cy"
      },
      "execution_count": 40,
      "outputs": []
    },
    {
      "cell_type": "code",
      "source": [
        "x += 1        # Dokładnie to samo co x = x + 1"
      ],
      "metadata": {
        "id": "VWfOGGoFIIvn"
      },
      "execution_count": 43,
      "outputs": []
    },
    {
      "cell_type": "code",
      "source": [
        "print(x)"
      ],
      "metadata": {
        "colab": {
          "base_uri": "https://localhost:8080/"
        },
        "id": "IxfuaDXzIMM-",
        "outputId": "f1fd121c-d2e9-409b-9960-29b0194fcc4f"
      },
      "execution_count": 42,
      "outputs": [
        {
          "output_type": "stream",
          "name": "stdout",
          "text": [
            "2\n"
          ]
        }
      ]
    },
    {
      "cell_type": "code",
      "source": [
        "x -= 1\n",
        "x *= 2\n",
        "x /= 2"
      ],
      "metadata": {
        "id": "nQPL14-KIMt0"
      },
      "execution_count": 44,
      "outputs": []
    },
    {
      "cell_type": "code",
      "source": [],
      "metadata": {
        "id": "maGFTcnNIV7a"
      },
      "execution_count": null,
      "outputs": []
    },
    {
      "cell_type": "markdown",
      "source": [
        "### Kolejność wykonywania działań"
      ],
      "metadata": {
        "id": "Cd695yZGIYnv"
      }
    },
    {
      "cell_type": "code",
      "source": [
        "x = 2 + 2 * 2\n",
        "print(x)"
      ],
      "metadata": {
        "colab": {
          "base_uri": "https://localhost:8080/"
        },
        "id": "auEZWcI_IaTB",
        "outputId": "1b2bfa77-d7b3-40cf-b8a8-f164030ce5c5"
      },
      "execution_count": 46,
      "outputs": [
        {
          "output_type": "stream",
          "name": "stdout",
          "text": [
            "6\n"
          ]
        }
      ]
    },
    {
      "cell_type": "code",
      "source": [
        "# Priorytet operatorów\n",
        "# 1. Nawiasy mają najwyższy priorytet\n",
        "#  x = 2 * (3 - 1)\n",
        "# 2. Potęgowanie\n",
        "# x = 3 * 1 ** 3\n",
        "# 3. Mnożenie i dzielenie (włączając // i %)\n",
        "# 4. Dodawanie i odejmowanie\n"
      ],
      "metadata": {
        "id": "Sh2AR8WrIc28"
      },
      "execution_count": 47,
      "outputs": []
    },
    {
      "cell_type": "code",
      "source": [],
      "metadata": {
        "id": "6pxUpHThJGi8"
      },
      "execution_count": null,
      "outputs": []
    },
    {
      "cell_type": "markdown",
      "source": [
        "### Funkcje na liczbach"
      ],
      "metadata": {
        "id": "WH_S2oLhJQag"
      }
    },
    {
      "cell_type": "code",
      "source": [
        "abs(-10)"
      ],
      "metadata": {
        "colab": {
          "base_uri": "https://localhost:8080/"
        },
        "id": "83Ja6fdYJQx8",
        "outputId": "1a31b9b0-44bd-4273-c726-e6776a9295a4"
      },
      "execution_count": 48,
      "outputs": [
        {
          "output_type": "execute_result",
          "data": {
            "text/plain": [
              "10"
            ]
          },
          "metadata": {},
          "execution_count": 48
        }
      ]
    },
    {
      "cell_type": "code",
      "source": [
        "abs(10)"
      ],
      "metadata": {
        "colab": {
          "base_uri": "https://localhost:8080/"
        },
        "id": "-QyggPNoJT11",
        "outputId": "37e09c2c-49f9-4568-90b0-17f4852477b6"
      },
      "execution_count": 49,
      "outputs": [
        {
          "output_type": "execute_result",
          "data": {
            "text/plain": [
              "10"
            ]
          },
          "metadata": {},
          "execution_count": 49
        }
      ]
    },
    {
      "cell_type": "code",
      "source": [
        "round(3.14)"
      ],
      "metadata": {
        "colab": {
          "base_uri": "https://localhost:8080/"
        },
        "id": "zrxmb0o7JVrq",
        "outputId": "0dc3a6d4-7731-4df7-e0c1-5c1f7724cdcf"
      },
      "execution_count": 50,
      "outputs": [
        {
          "output_type": "execute_result",
          "data": {
            "text/plain": [
              "3"
            ]
          },
          "metadata": {},
          "execution_count": 50
        }
      ]
    },
    {
      "cell_type": "code",
      "source": [
        "round(3.56)"
      ],
      "metadata": {
        "colab": {
          "base_uri": "https://localhost:8080/"
        },
        "id": "d3VE5rxbJYR2",
        "outputId": "a5ca23c1-e39a-49ab-ad88-f6daf5df16d0"
      },
      "execution_count": 51,
      "outputs": [
        {
          "output_type": "execute_result",
          "data": {
            "text/plain": [
              "4"
            ]
          },
          "metadata": {},
          "execution_count": 51
        }
      ]
    },
    {
      "cell_type": "code",
      "source": [
        "round(3.56479271672663, 2)"
      ],
      "metadata": {
        "colab": {
          "base_uri": "https://localhost:8080/"
        },
        "id": "RNdpLbfTJbOG",
        "outputId": "dfc6890b-1e31-403e-ebd6-24b4d78ea4ba"
      },
      "execution_count": 52,
      "outputs": [
        {
          "output_type": "execute_result",
          "data": {
            "text/plain": [
              "3.56"
            ]
          },
          "metadata": {},
          "execution_count": 52
        }
      ]
    },
    {
      "cell_type": "code",
      "source": [
        "number = int('30')\n",
        "print(type(number))"
      ],
      "metadata": {
        "colab": {
          "base_uri": "https://localhost:8080/"
        },
        "id": "7gBuJouaJhQV",
        "outputId": "b2fdeb6f-0939-4613-b047-725df7a72bd4"
      },
      "execution_count": 53,
      "outputs": [
        {
          "output_type": "stream",
          "name": "stdout",
          "text": [
            "<class 'int'>\n"
          ]
        }
      ]
    },
    {
      "cell_type": "code",
      "source": [
        "int(3.999999)"
      ],
      "metadata": {
        "colab": {
          "base_uri": "https://localhost:8080/"
        },
        "id": "AbYdqiISJsdU",
        "outputId": "979be35a-1e70-44d9-be64-36b1cd640222"
      },
      "execution_count": 54,
      "outputs": [
        {
          "output_type": "execute_result",
          "data": {
            "text/plain": [
              "3"
            ]
          },
          "metadata": {},
          "execution_count": 54
        }
      ]
    },
    {
      "cell_type": "code",
      "source": [
        "number = input('Enter a number: ')\n",
        "number = int(number)\n",
        "print(number)"
      ],
      "metadata": {
        "colab": {
          "base_uri": "https://localhost:8080/"
        },
        "id": "k2LvAIqrJxBh",
        "outputId": "e0f42507-aa23-4654-f847-44be5cdbae26"
      },
      "execution_count": 55,
      "outputs": [
        {
          "output_type": "stream",
          "name": "stdout",
          "text": [
            "Enter a number: 10\n",
            "10\n"
          ]
        }
      ]
    },
    {
      "cell_type": "code",
      "source": [
        "float('3.75')"
      ],
      "metadata": {
        "colab": {
          "base_uri": "https://localhost:8080/"
        },
        "id": "eVdZoL4hKCyF",
        "outputId": "9dbb4a88-22a3-4612-d129-a6e9417de3d7"
      },
      "execution_count": 56,
      "outputs": [
        {
          "output_type": "execute_result",
          "data": {
            "text/plain": [
              "3.75"
            ]
          },
          "metadata": {},
          "execution_count": 56
        }
      ]
    },
    {
      "cell_type": "code",
      "source": [
        "float(6)"
      ],
      "metadata": {
        "colab": {
          "base_uri": "https://localhost:8080/"
        },
        "id": "KOMGKQXnKIWg",
        "outputId": "be2d146f-2054-47eb-ff5d-822c28579165"
      },
      "execution_count": 57,
      "outputs": [
        {
          "output_type": "execute_result",
          "data": {
            "text/plain": [
              "6.0"
            ]
          },
          "metadata": {},
          "execution_count": 57
        }
      ]
    },
    {
      "cell_type": "code",
      "source": [
        "#          9\n",
        "# F = 32 + - * C\n",
        "#          5"
      ],
      "metadata": {
        "id": "6u0fL4O2KKBn"
      },
      "execution_count": 58,
      "outputs": []
    },
    {
      "cell_type": "code",
      "source": [
        "c = input('Enter a temperature in Celsius: ')\n",
        "f = 32 + 9 / 5 * float(c)\n",
        "print('Temperature in Fahrenheit', f)"
      ],
      "metadata": {
        "colab": {
          "base_uri": "https://localhost:8080/"
        },
        "id": "xqQUxzT_KVP5",
        "outputId": "ebd3fa01-e6ba-4e2d-f87b-f54f4b1b5c7f"
      },
      "execution_count": 61,
      "outputs": [
        {
          "output_type": "stream",
          "name": "stdout",
          "text": [
            "Enter a temperature in Celsius: 0\n",
            "Temperature in Fahrenheit 32.0\n"
          ]
        }
      ]
    },
    {
      "cell_type": "code",
      "source": [
        "print(0.1 + 0.2)"
      ],
      "metadata": {
        "colab": {
          "base_uri": "https://localhost:8080/"
        },
        "id": "KgILy-MTK018",
        "outputId": "8a1d1bd9-24bf-4e6f-abfc-22f9480255f7"
      },
      "execution_count": 62,
      "outputs": [
        {
          "output_type": "stream",
          "name": "stdout",
          "text": [
            "0.30000000000000004\n"
          ]
        }
      ]
    },
    {
      "cell_type": "code",
      "source": [],
      "metadata": {
        "id": "rxStS59rLZ66"
      },
      "execution_count": null,
      "outputs": []
    },
    {
      "cell_type": "markdown",
      "source": [
        "### Wyrażenia logiczne"
      ],
      "metadata": {
        "id": "5AdQyN0iLrWc"
      }
    },
    {
      "cell_type": "code",
      "source": [
        "num1 = 2\n",
        "num2 = 3\n",
        "\n",
        "print(num1 == num2)    # Equal\n",
        "print(num1 > num2)     # greater\n",
        "print(num1 >= num2)    # greater than or equal\n",
        "print(num1 < num2)     # Less than\n",
        "print(num1 <= num2)    # Less than or equal"
      ],
      "metadata": {
        "colab": {
          "base_uri": "https://localhost:8080/"
        },
        "id": "KNhaA1yZLsYY",
        "outputId": "604e93c3-9d16-4ee7-fc3a-ad7ffdc39cf4"
      },
      "execution_count": 63,
      "outputs": [
        {
          "output_type": "stream",
          "name": "stdout",
          "text": [
            "False\n",
            "False\n",
            "False\n",
            "True\n",
            "True\n"
          ]
        }
      ]
    },
    {
      "cell_type": "code",
      "source": [
        "x = 5\n",
        "print(x > 0 and x < 10)"
      ],
      "metadata": {
        "colab": {
          "base_uri": "https://localhost:8080/"
        },
        "id": "FJVStQdSMAYl",
        "outputId": "d61608dd-e921-4872-ef55-e06040a2e601"
      },
      "execution_count": 64,
      "outputs": [
        {
          "output_type": "stream",
          "name": "stdout",
          "text": [
            "True\n"
          ]
        }
      ]
    },
    {
      "cell_type": "code",
      "source": [
        "print(x % 2 == 0 or x % 3 == 0)"
      ],
      "metadata": {
        "colab": {
          "base_uri": "https://localhost:8080/"
        },
        "id": "XigiV6dlMRv8",
        "outputId": "131ea05f-4360-496a-eedd-7d676bc79c5e"
      },
      "execution_count": 65,
      "outputs": [
        {
          "output_type": "stream",
          "name": "stdout",
          "text": [
            "False\n"
          ]
        }
      ]
    },
    {
      "cell_type": "code",
      "source": [
        "not 10 > 11"
      ],
      "metadata": {
        "colab": {
          "base_uri": "https://localhost:8080/"
        },
        "id": "8t-DLumdMmGF",
        "outputId": "6b4a6520-9eab-4fa3-d46e-bf0b18f83d55"
      },
      "execution_count": 66,
      "outputs": [
        {
          "output_type": "execute_result",
          "data": {
            "text/plain": [
              "True"
            ]
          },
          "metadata": {},
          "execution_count": 66
        }
      ]
    },
    {
      "cell_type": "code",
      "source": [
        "x = 2\n",
        "y = 3\n",
        "print(x > 100 and y > 100)"
      ],
      "metadata": {
        "colab": {
          "base_uri": "https://localhost:8080/"
        },
        "id": "PFuIZy-ZMsex",
        "outputId": "c1aae4f5-1ea6-4503-91bc-8117e4edc275"
      },
      "execution_count": 67,
      "outputs": [
        {
          "output_type": "stream",
          "name": "stdout",
          "text": [
            "False\n"
          ]
        }
      ]
    },
    {
      "cell_type": "code",
      "source": [],
      "metadata": {
        "id": "eC-qAKbGNORI"
      },
      "execution_count": null,
      "outputs": []
    },
    {
      "cell_type": "markdown",
      "source": [
        "### Instrukcje warunkowe if"
      ],
      "metadata": {
        "id": "aN_uZWZCNQ2q"
      }
    },
    {
      "cell_type": "code",
      "source": [
        "x = -3\n",
        "\n",
        "if x > 1:\n",
        "    print('Condition is True')\n",
        "    print('Great')\n",
        "else:\n",
        "    print('Condition is False')\n",
        "print('Bye')"
      ],
      "metadata": {
        "colab": {
          "base_uri": "https://localhost:8080/"
        },
        "id": "MeyQtzxyNS9_",
        "outputId": "b916cee1-2418-4ba7-fc61-4835896b635d"
      },
      "execution_count": 73,
      "outputs": [
        {
          "output_type": "stream",
          "name": "stdout",
          "text": [
            "Condition is False\n",
            "Bye\n"
          ]
        }
      ]
    },
    {
      "cell_type": "code",
      "source": [
        "age = 4\n",
        "\n",
        "if age >= 18:\n",
        "    print('You are an adult!')\n",
        "elif age < 0:\n",
        "    print('You have not been born yet!')\n",
        "elif age < 5:\n",
        "    print('You are a baby')\n",
        "else:\n",
        "    print('You are a child')"
      ],
      "metadata": {
        "colab": {
          "base_uri": "https://localhost:8080/"
        },
        "id": "BERcgIuVOLnG",
        "outputId": "bd66a195-8b68-4bfa-d8a7-a30ff1c0aae6"
      },
      "execution_count": 76,
      "outputs": [
        {
          "output_type": "stream",
          "name": "stdout",
          "text": [
            "You are a baby\n"
          ]
        }
      ]
    },
    {
      "cell_type": "code",
      "source": [
        "seconds = int(input('Enter a number of seconds: '))\n",
        "hours = seconds // 3600\n",
        "seconds_left = seconds % 3600\n",
        "minutes = seconds_left // 60\n",
        "seconds_left = seconds_left % 60\n",
        "print(hours, 'h', minutes, 'm', seconds_left, 's')"
      ],
      "metadata": {
        "colab": {
          "base_uri": "https://localhost:8080/"
        },
        "id": "0O6ekEbIO8td",
        "outputId": "2a3cd1f5-8e7c-4796-c4cf-0e7d992ba2a2"
      },
      "execution_count": 77,
      "outputs": [
        {
          "output_type": "stream",
          "name": "stdout",
          "text": [
            "Enter a number of seconds: 70\n",
            "0 h 1 m 10 s\n"
          ]
        }
      ]
    },
    {
      "cell_type": "code",
      "source": [
        "number = int(input('Enter a number: '))\n",
        "if number % 2 == 0:\n",
        "    print('Even')\n",
        "else:\n",
        "    print('Odd')"
      ],
      "metadata": {
        "colab": {
          "base_uri": "https://localhost:8080/"
        },
        "id": "yXWViCvqNqAw",
        "outputId": "dfa19a3e-94ae-4d8e-c0bf-a5288bae7cb1"
      },
      "execution_count": 79,
      "outputs": [
        {
          "output_type": "stream",
          "name": "stdout",
          "text": [
            "Enter a number: 4\n",
            "Even\n"
          ]
        }
      ]
    },
    {
      "cell_type": "code",
      "source": [
        "x = 0\n",
        "if x:\n",
        "    print('Condition True')"
      ],
      "metadata": {
        "id": "Vo2D66aAQ6WC"
      },
      "execution_count": 82,
      "outputs": []
    },
    {
      "cell_type": "code",
      "source": [],
      "metadata": {
        "id": "-_Fu5ph8RD7n"
      },
      "execution_count": null,
      "outputs": []
    }
  ]
}