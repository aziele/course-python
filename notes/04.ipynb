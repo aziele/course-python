{
  "nbformat": 4,
  "nbformat_minor": 0,
  "metadata": {
    "colab": {
      "provenance": []
    },
    "kernelspec": {
      "name": "python3",
      "display_name": "Python 3"
    },
    "language_info": {
      "name": "python"
    }
  },
  "cells": [
    {
      "cell_type": "markdown",
      "source": [
        "# 04 - Pętla for, pętla while"
      ],
      "metadata": {
        "id": "iDwgCq7kV88Q"
      }
    },
    {
      "cell_type": "code",
      "source": [
        "for letter in 'Python':\n",
        "    print(letter)"
      ],
      "metadata": {
        "colab": {
          "base_uri": "https://localhost:8080/"
        },
        "id": "_Lp_2ErtWCGx",
        "outputId": "785b5abb-f4fe-4434-f93d-bebce048c62e"
      },
      "execution_count": 1,
      "outputs": [
        {
          "output_type": "stream",
          "name": "stdout",
          "text": [
            "P\n",
            "y\n",
            "t\n",
            "h\n",
            "o\n",
            "n\n"
          ]
        }
      ]
    },
    {
      "cell_type": "code",
      "source": [
        "name = 'Python'\n",
        "for character in name:\n",
        "    print(character)"
      ],
      "metadata": {
        "colab": {
          "base_uri": "https://localhost:8080/"
        },
        "id": "HmGJVTZyXiFm",
        "outputId": "2e9c4a79-c781-4b38-cb1b-e6bba18ec0e6"
      },
      "execution_count": 2,
      "outputs": [
        {
          "output_type": "stream",
          "name": "stdout",
          "text": [
            "P\n",
            "y\n",
            "t\n",
            "h\n",
            "o\n",
            "n\n"
          ]
        }
      ]
    },
    {
      "cell_type": "code",
      "source": [
        "name = 'Python'\n",
        "for character in name:\n",
        "    print(character * 3)"
      ],
      "metadata": {
        "colab": {
          "base_uri": "https://localhost:8080/"
        },
        "id": "FE3hpLuEXs1w",
        "outputId": "e73c6127-90c2-4c44-b146-21ce3ff70671"
      },
      "execution_count": 4,
      "outputs": [
        {
          "output_type": "stream",
          "name": "stdout",
          "text": [
            "PPP\n",
            "yyy\n",
            "ttt\n",
            "hhh\n",
            "ooo\n",
            "nnn\n"
          ]
        }
      ]
    },
    {
      "cell_type": "code",
      "source": [
        "name = 'Python'\n",
        "for character in name:\n",
        "    print(f'{character}{character}{character}')"
      ],
      "metadata": {
        "colab": {
          "base_uri": "https://localhost:8080/"
        },
        "id": "T4lMEZmnYAjr",
        "outputId": "7365b014-43f8-49d3-d720-dfef577305dd"
      },
      "execution_count": 5,
      "outputs": [
        {
          "output_type": "stream",
          "name": "stdout",
          "text": [
            "PPP\n",
            "yyy\n",
            "ttt\n",
            "hhh\n",
            "ooo\n",
            "nnn\n"
          ]
        }
      ]
    },
    {
      "cell_type": "code",
      "source": [],
      "metadata": {
        "id": "iv1xHBYbYJM5"
      },
      "execution_count": null,
      "outputs": []
    },
    {
      "cell_type": "markdown",
      "source": [
        "## Instrukcja continue"
      ],
      "metadata": {
        "id": "dxZ4n8WQYPM7"
      }
    },
    {
      "cell_type": "code",
      "source": [
        "name = 'Python'\n",
        "for character in name:\n",
        "    if character == 'h':\n",
        "        continue\n",
        "    print(character)"
      ],
      "metadata": {
        "colab": {
          "base_uri": "https://localhost:8080/"
        },
        "id": "p2qRH8sSYRcl",
        "outputId": "3f333cdf-b4a5-4bf6-e330-ebbbd9de65aa"
      },
      "execution_count": 6,
      "outputs": [
        {
          "output_type": "stream",
          "name": "stdout",
          "text": [
            "P\n",
            "y\n",
            "t\n",
            "o\n",
            "n\n"
          ]
        }
      ]
    },
    {
      "cell_type": "code",
      "source": [
        "name = 'Python'\n",
        "for character in name:\n",
        "    if character == 'h':\n",
        "        break\n",
        "    print(character)"
      ],
      "metadata": {
        "colab": {
          "base_uri": "https://localhost:8080/"
        },
        "id": "o47iMH2-YqmN",
        "outputId": "0fd94711-0b7c-4141-ef79-8a14c1dc7aa1"
      },
      "execution_count": 7,
      "outputs": [
        {
          "output_type": "stream",
          "name": "stdout",
          "text": [
            "P\n",
            "y\n",
            "t\n"
          ]
        }
      ]
    },
    {
      "cell_type": "code",
      "source": [
        "name = 'Python'\n",
        "for character in name:\n",
        "    print(character)\n",
        "else:\n",
        "    print('I iterated over all letters')"
      ],
      "metadata": {
        "colab": {
          "base_uri": "https://localhost:8080/"
        },
        "id": "q8RWdKf_Y2Yu",
        "outputId": "726d5204-6036-43a2-fec4-761204c41f7c"
      },
      "execution_count": 10,
      "outputs": [
        {
          "output_type": "stream",
          "name": "stdout",
          "text": [
            "P\n",
            "y\n",
            "t\n",
            "h\n",
            "o\n",
            "n\n",
            "I iterated over all letters\n"
          ]
        }
      ]
    },
    {
      "cell_type": "code",
      "source": [
        "seq = 'ATCGTAGTTTTTA'\n",
        "position = 0\n",
        "for letter in seq:\n",
        "    print(letter, position)\n",
        "    position += 1"
      ],
      "metadata": {
        "colab": {
          "base_uri": "https://localhost:8080/"
        },
        "id": "KLAC3G6QZRld",
        "outputId": "f170c173-4abb-4f2f-f873-68d185f6eab2"
      },
      "execution_count": 12,
      "outputs": [
        {
          "output_type": "stream",
          "name": "stdout",
          "text": [
            "A 0\n",
            "T 1\n",
            "C 2\n",
            "G 3\n",
            "T 4\n",
            "A 5\n",
            "G 6\n",
            "T 7\n",
            "T 8\n",
            "T 9\n",
            "T 10\n",
            "T 11\n",
            "A 12\n"
          ]
        }
      ]
    },
    {
      "cell_type": "code",
      "source": [],
      "metadata": {
        "id": "EVF8640rY87R"
      },
      "execution_count": null,
      "outputs": []
    },
    {
      "cell_type": "markdown",
      "source": [
        "## Pętla for z licznikiem"
      ],
      "metadata": {
        "id": "5tPj6-0gZyD6"
      }
    },
    {
      "cell_type": "code",
      "source": [
        "for i in range(10):\n",
        "    print(i)"
      ],
      "metadata": {
        "colab": {
          "base_uri": "https://localhost:8080/"
        },
        "id": "nMUi8IKMZzqu",
        "outputId": "b1fb81d3-7856-4ed1-b821-bda9b2171052"
      },
      "execution_count": 13,
      "outputs": [
        {
          "output_type": "stream",
          "name": "stdout",
          "text": [
            "0\n",
            "1\n",
            "2\n",
            "3\n",
            "4\n",
            "5\n",
            "6\n",
            "7\n",
            "8\n",
            "9\n"
          ]
        }
      ]
    },
    {
      "cell_type": "code",
      "source": [
        "for number in range(10):\n",
        "    print('Hello world!')"
      ],
      "metadata": {
        "colab": {
          "base_uri": "https://localhost:8080/"
        },
        "id": "sWE116nGZ7gn",
        "outputId": "fa5e5f2b-bd40-41c5-bdd1-c8405d4fd891"
      },
      "execution_count": 14,
      "outputs": [
        {
          "output_type": "stream",
          "name": "stdout",
          "text": [
            "Hello world!\n",
            "Hello world!\n",
            "Hello world!\n",
            "Hello world!\n",
            "Hello world!\n",
            "Hello world!\n",
            "Hello world!\n",
            "Hello world!\n",
            "Hello world!\n",
            "Hello world!\n"
          ]
        }
      ]
    },
    {
      "cell_type": "code",
      "source": [
        "for i in range(1, 5):\n",
        "    print(i)"
      ],
      "metadata": {
        "colab": {
          "base_uri": "https://localhost:8080/"
        },
        "id": "ytpN8ZFJaGKy",
        "outputId": "77a1e13b-df98-4374-ad9c-f2e20118ce17"
      },
      "execution_count": 15,
      "outputs": [
        {
          "output_type": "stream",
          "name": "stdout",
          "text": [
            "1\n",
            "2\n",
            "3\n",
            "4\n"
          ]
        }
      ]
    },
    {
      "cell_type": "code",
      "source": [
        "for i in range(1, 10, 2):\n",
        "    print(i)"
      ],
      "metadata": {
        "colab": {
          "base_uri": "https://localhost:8080/"
        },
        "id": "-N1tftMUaN0k",
        "outputId": "099f7dc9-8912-42a6-9d88-7f0ff2666508"
      },
      "execution_count": 17,
      "outputs": [
        {
          "output_type": "stream",
          "name": "stdout",
          "text": [
            "1\n",
            "3\n",
            "5\n",
            "7\n",
            "9\n"
          ]
        }
      ]
    },
    {
      "cell_type": "code",
      "source": [
        "for i in range(-5, 6, 1):\n",
        "    print(i, end=' ')"
      ],
      "metadata": {
        "colab": {
          "base_uri": "https://localhost:8080/"
        },
        "id": "QYKlo0I_aWgR",
        "outputId": "4adba072-37da-489d-c2bd-afc6ed2da55f"
      },
      "execution_count": 19,
      "outputs": [
        {
          "output_type": "stream",
          "name": "stdout",
          "text": [
            "-5 -4 -3 -2 -1 0 1 2 3 4 5 "
          ]
        }
      ]
    },
    {
      "cell_type": "code",
      "source": [
        "product = 1\n",
        "for number in range(1, 51):\n",
        "    product *= number\n",
        "print(f'Product: {product:,}')\n",
        "print(number)"
      ],
      "metadata": {
        "colab": {
          "base_uri": "https://localhost:8080/"
        },
        "id": "lFJDmpuCadpV",
        "outputId": "a7afca2e-294f-426d-804f-19895e67c5f9"
      },
      "execution_count": 22,
      "outputs": [
        {
          "output_type": "stream",
          "name": "stdout",
          "text": [
            "Product: 30,414,093,201,713,378,043,612,608,166,064,768,844,377,641,568,960,512,000,000,000,000\n",
            "50\n"
          ]
        }
      ]
    },
    {
      "cell_type": "code",
      "source": [
        "seq = 'ATGCTGATA'\n",
        "\n",
        "print(seq[1])"
      ],
      "metadata": {
        "colab": {
          "base_uri": "https://localhost:8080/"
        },
        "id": "D88-_YvZbjqe",
        "outputId": "f2dc6e7c-1ac6-4b1e-e67e-c0a8a8f77753"
      },
      "execution_count": 24,
      "outputs": [
        {
          "output_type": "stream",
          "name": "stdout",
          "text": [
            "T\n"
          ]
        }
      ]
    },
    {
      "cell_type": "code",
      "source": [
        "seq1 = 'ATGCTGATAGTAGATA'\n",
        "seq2 = 'ATCCTGTTAGTAGAAA'\n",
        "\n",
        "distance = 0\n",
        "for position in range(len(seq1)):\n",
        "    nucleotide1 = seq1[position]\n",
        "    nucleotide2 = seq2[position]\n",
        "    if nucleotide1 != nucleotide2:\n",
        "        distance += 1\n",
        "print(f'Hamming distance: {distance}')"
      ],
      "metadata": {
        "colab": {
          "base_uri": "https://localhost:8080/"
        },
        "id": "o9YJsvBncG11",
        "outputId": "8a702220-edca-42f5-d91f-504073240690"
      },
      "execution_count": 28,
      "outputs": [
        {
          "output_type": "stream",
          "name": "stdout",
          "text": [
            "Hamming distance: 3\n"
          ]
        }
      ]
    },
    {
      "cell_type": "code",
      "source": [
        "for question_num in range(1, 6):\n",
        "    print(f'Question: {question_num}')\n",
        "    for letter in 'abcd':\n",
        "        print(f'{letter}.')"
      ],
      "metadata": {
        "colab": {
          "base_uri": "https://localhost:8080/"
        },
        "id": "eXD4zXD6cb3_",
        "outputId": "31f20076-b20b-4370-bad1-9af57be74340"
      },
      "execution_count": 29,
      "outputs": [
        {
          "output_type": "stream",
          "name": "stdout",
          "text": [
            "Question: 1\n",
            "a.\n",
            "b.\n",
            "c.\n",
            "d.\n",
            "Question: 2\n",
            "a.\n",
            "b.\n",
            "c.\n",
            "d.\n",
            "Question: 3\n",
            "a.\n",
            "b.\n",
            "c.\n",
            "d.\n",
            "Question: 4\n",
            "a.\n",
            "b.\n",
            "c.\n",
            "d.\n",
            "Question: 5\n",
            "a.\n",
            "b.\n",
            "c.\n",
            "d.\n"
          ]
        }
      ]
    },
    {
      "cell_type": "code",
      "source": [
        "for dice1 in range(1, 7):\n",
        "    for dice2 in range(1, 7):\n",
        "        for dice3 in range(1, 7):\n",
        "            print(dice1, dice2, dice3)"
      ],
      "metadata": {
        "colab": {
          "base_uri": "https://localhost:8080/"
        },
        "id": "bCBrF0ZjePWm",
        "outputId": "44b4914d-7b2c-4a32-ae28-aed9e371f7d1"
      },
      "execution_count": 31,
      "outputs": [
        {
          "output_type": "stream",
          "name": "stdout",
          "text": [
            "1 1 1\n",
            "1 1 2\n",
            "1 1 3\n",
            "1 1 4\n",
            "1 1 5\n",
            "1 1 6\n",
            "1 2 1\n",
            "1 2 2\n",
            "1 2 3\n",
            "1 2 4\n",
            "1 2 5\n",
            "1 2 6\n",
            "1 3 1\n",
            "1 3 2\n",
            "1 3 3\n",
            "1 3 4\n",
            "1 3 5\n",
            "1 3 6\n",
            "1 4 1\n",
            "1 4 2\n",
            "1 4 3\n",
            "1 4 4\n",
            "1 4 5\n",
            "1 4 6\n",
            "1 5 1\n",
            "1 5 2\n",
            "1 5 3\n",
            "1 5 4\n",
            "1 5 5\n",
            "1 5 6\n",
            "1 6 1\n",
            "1 6 2\n",
            "1 6 3\n",
            "1 6 4\n",
            "1 6 5\n",
            "1 6 6\n",
            "2 1 1\n",
            "2 1 2\n",
            "2 1 3\n",
            "2 1 4\n",
            "2 1 5\n",
            "2 1 6\n",
            "2 2 1\n",
            "2 2 2\n",
            "2 2 3\n",
            "2 2 4\n",
            "2 2 5\n",
            "2 2 6\n",
            "2 3 1\n",
            "2 3 2\n",
            "2 3 3\n",
            "2 3 4\n",
            "2 3 5\n",
            "2 3 6\n",
            "2 4 1\n",
            "2 4 2\n",
            "2 4 3\n",
            "2 4 4\n",
            "2 4 5\n",
            "2 4 6\n",
            "2 5 1\n",
            "2 5 2\n",
            "2 5 3\n",
            "2 5 4\n",
            "2 5 5\n",
            "2 5 6\n",
            "2 6 1\n",
            "2 6 2\n",
            "2 6 3\n",
            "2 6 4\n",
            "2 6 5\n",
            "2 6 6\n",
            "3 1 1\n",
            "3 1 2\n",
            "3 1 3\n",
            "3 1 4\n",
            "3 1 5\n",
            "3 1 6\n",
            "3 2 1\n",
            "3 2 2\n",
            "3 2 3\n",
            "3 2 4\n",
            "3 2 5\n",
            "3 2 6\n",
            "3 3 1\n",
            "3 3 2\n",
            "3 3 3\n",
            "3 3 4\n",
            "3 3 5\n",
            "3 3 6\n",
            "3 4 1\n",
            "3 4 2\n",
            "3 4 3\n",
            "3 4 4\n",
            "3 4 5\n",
            "3 4 6\n",
            "3 5 1\n",
            "3 5 2\n",
            "3 5 3\n",
            "3 5 4\n",
            "3 5 5\n",
            "3 5 6\n",
            "3 6 1\n",
            "3 6 2\n",
            "3 6 3\n",
            "3 6 4\n",
            "3 6 5\n",
            "3 6 6\n",
            "4 1 1\n",
            "4 1 2\n",
            "4 1 3\n",
            "4 1 4\n",
            "4 1 5\n",
            "4 1 6\n",
            "4 2 1\n",
            "4 2 2\n",
            "4 2 3\n",
            "4 2 4\n",
            "4 2 5\n",
            "4 2 6\n",
            "4 3 1\n",
            "4 3 2\n",
            "4 3 3\n",
            "4 3 4\n",
            "4 3 5\n",
            "4 3 6\n",
            "4 4 1\n",
            "4 4 2\n",
            "4 4 3\n",
            "4 4 4\n",
            "4 4 5\n",
            "4 4 6\n",
            "4 5 1\n",
            "4 5 2\n",
            "4 5 3\n",
            "4 5 4\n",
            "4 5 5\n",
            "4 5 6\n",
            "4 6 1\n",
            "4 6 2\n",
            "4 6 3\n",
            "4 6 4\n",
            "4 6 5\n",
            "4 6 6\n",
            "5 1 1\n",
            "5 1 2\n",
            "5 1 3\n",
            "5 1 4\n",
            "5 1 5\n",
            "5 1 6\n",
            "5 2 1\n",
            "5 2 2\n",
            "5 2 3\n",
            "5 2 4\n",
            "5 2 5\n",
            "5 2 6\n",
            "5 3 1\n",
            "5 3 2\n",
            "5 3 3\n",
            "5 3 4\n",
            "5 3 5\n",
            "5 3 6\n",
            "5 4 1\n",
            "5 4 2\n",
            "5 4 3\n",
            "5 4 4\n",
            "5 4 5\n",
            "5 4 6\n",
            "5 5 1\n",
            "5 5 2\n",
            "5 5 3\n",
            "5 5 4\n",
            "5 5 5\n",
            "5 5 6\n",
            "5 6 1\n",
            "5 6 2\n",
            "5 6 3\n",
            "5 6 4\n",
            "5 6 5\n",
            "5 6 6\n",
            "6 1 1\n",
            "6 1 2\n",
            "6 1 3\n",
            "6 1 4\n",
            "6 1 5\n",
            "6 1 6\n",
            "6 2 1\n",
            "6 2 2\n",
            "6 2 3\n",
            "6 2 4\n",
            "6 2 5\n",
            "6 2 6\n",
            "6 3 1\n",
            "6 3 2\n",
            "6 3 3\n",
            "6 3 4\n",
            "6 3 5\n",
            "6 3 6\n",
            "6 4 1\n",
            "6 4 2\n",
            "6 4 3\n",
            "6 4 4\n",
            "6 4 5\n",
            "6 4 6\n",
            "6 5 1\n",
            "6 5 2\n",
            "6 5 3\n",
            "6 5 4\n",
            "6 5 5\n",
            "6 5 6\n",
            "6 6 1\n",
            "6 6 2\n",
            "6 6 3\n",
            "6 6 4\n",
            "6 6 5\n",
            "6 6 6\n"
          ]
        }
      ]
    },
    {
      "cell_type": "code",
      "source": [],
      "metadata": {
        "id": "tK0rItC0eZPI"
      },
      "execution_count": null,
      "outputs": []
    },
    {
      "cell_type": "markdown",
      "source": [
        "## Pętla while"
      ],
      "metadata": {
        "id": "Tz2qj2xVexzO"
      }
    },
    {
      "cell_type": "code",
      "source": [
        "for i in range(6):\n",
        "    print(i)"
      ],
      "metadata": {
        "colab": {
          "base_uri": "https://localhost:8080/"
        },
        "id": "_SjE9R_Cez1j",
        "outputId": "0d1072f5-b6df-4344-f801-a6f1e8f5aa97"
      },
      "execution_count": 32,
      "outputs": [
        {
          "output_type": "stream",
          "name": "stdout",
          "text": [
            "0\n",
            "1\n",
            "2\n",
            "3\n",
            "4\n",
            "5\n"
          ]
        }
      ]
    },
    {
      "cell_type": "code",
      "source": [
        "x = 0\n",
        "while x <= 5:\n",
        "    print(x)\n",
        "    x += 1"
      ],
      "metadata": {
        "colab": {
          "base_uri": "https://localhost:8080/"
        },
        "id": "2aekeeM8e9dF",
        "outputId": "5702d24d-1bbe-4f0f-aa14-6544bc5780e1"
      },
      "execution_count": 33,
      "outputs": [
        {
          "output_type": "stream",
          "name": "stdout",
          "text": [
            "0\n",
            "1\n",
            "2\n",
            "3\n",
            "4\n",
            "5\n"
          ]
        }
      ]
    },
    {
      "cell_type": "code",
      "source": [
        "while True:\n",
        "    option = input('Choose option a or b: ')\n",
        "    if option == 'a' or option == 'b':\n",
        "        break\n",
        "print(f'Thanks for choosing {option}')"
      ],
      "metadata": {
        "colab": {
          "base_uri": "https://localhost:8080/"
        },
        "id": "rcEzV-jMfDC_",
        "outputId": "28a00438-a692-42fe-a92e-3d5866ef607f"
      },
      "execution_count": 34,
      "outputs": [
        {
          "output_type": "stream",
          "name": "stdout",
          "text": [
            "Choose option a or b: z\n",
            "Choose option a or b: 5\n",
            "Choose option a or b: jkjpjlkjk;\n",
            "Choose option a or b: 787879\n",
            "Choose option a or b: b\n",
            "Thanks for choosing b\n"
          ]
        }
      ]
    },
    {
      "cell_type": "code",
      "source": [
        "for i in range(100000000):\n",
        "    option = input('Choose option a or b: ')\n",
        "    if option == 'a' or option == 'b':\n",
        "        break\n",
        "print(f'Thanks for choosing {option}')"
      ],
      "metadata": {
        "id": "TBecz090fi_F"
      },
      "execution_count": null,
      "outputs": []
    },
    {
      "cell_type": "code",
      "source": [
        "SECRET_NUMBER = 7\n",
        "\n",
        "for i in range(3):\n",
        "    number = int(input('Enter a number: '))\n",
        "    if number == SECRET_NUMBER:\n",
        "        print('You won!')\n",
        "        break\n",
        "else:\n",
        "    print('You failed.')\n"
      ],
      "metadata": {
        "colab": {
          "base_uri": "https://localhost:8080/"
        },
        "id": "29O77Hc_f5zo",
        "outputId": "3fe48fbe-692e-45c3-f12f-42f3429e057a"
      },
      "execution_count": 37,
      "outputs": [
        {
          "output_type": "stream",
          "name": "stdout",
          "text": [
            "Enter a number: 5\n",
            "Enter a number: 1\n",
            "Enter a number: 2\n",
            "You failed.\n"
          ]
        }
      ]
    },
    {
      "cell_type": "code",
      "source": [
        "SECRET_NUMBER = 7\n",
        "user_failed = True\n",
        "for i in range(3):\n",
        "    number = int(input('Enter a number: '))\n",
        "    if number == SECRET_NUMBER:\n",
        "        print('You won!')\n",
        "        user_failed = False\n",
        "        break\n",
        "\n",
        "if user_failed:\n",
        "    print('You failed.')"
      ],
      "metadata": {
        "colab": {
          "base_uri": "https://localhost:8080/"
        },
        "id": "Ziy2hDp9grhR",
        "outputId": "37157b82-ca38-4fa4-fe17-5ea88af79c10"
      },
      "execution_count": 38,
      "outputs": [
        {
          "output_type": "stream",
          "name": "stdout",
          "text": [
            "Enter a number: 5\n",
            "Enter a number: 8\n",
            "Enter a number: 9\n",
            "You failed.\n"
          ]
        }
      ]
    },
    {
      "cell_type": "code",
      "source": [
        "import random\n",
        "\n",
        "SECRET_NUMBER = random.randint(1, 10)\n",
        "print(SECRET_NUMBER)"
      ],
      "metadata": {
        "colab": {
          "base_uri": "https://localhost:8080/"
        },
        "id": "vn1mRe9ig_Ph",
        "outputId": "cf374e42-92f1-4d43-a349-cba55ba1f857"
      },
      "execution_count": 53,
      "outputs": [
        {
          "output_type": "stream",
          "name": "stdout",
          "text": [
            "3\n"
          ]
        }
      ]
    }
  ]
}