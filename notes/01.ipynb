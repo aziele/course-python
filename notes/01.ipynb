{
  "nbformat": 4,
  "nbformat_minor": 0,
  "metadata": {
    "colab": {
      "provenance": []
    },
    "kernelspec": {
      "name": "python3",
      "display_name": "Python 3"
    },
    "language_info": {
      "name": "python"
    }
  },
  "cells": [
    {
      "cell_type": "code",
      "execution_count": 1,
      "metadata": {
        "colab": {
          "base_uri": "https://localhost:8080/"
        },
        "id": "xo28-fhGOLAY",
        "outputId": "e171fa1c-16d8-4b04-e1b1-2763e4e4c079"
      },
      "outputs": [
        {
          "output_type": "stream",
          "name": "stdout",
          "text": [
            "Hello world!\n"
          ]
        }
      ],
      "source": [
        "print('Hello world!')"
      ]
    },
    {
      "cell_type": "code",
      "source": [
        "print(\"Hello world\") # My first program.\n",
        "\n",
        "# Square\n",
        "print(' ----- ')\n",
        "print('|     |')\n",
        "print('|     |')\n",
        "print(' -----')\n",
        "\n",
        "message = 'Hello world!'\n",
        "print(message)\n",
        "message = 'Hi'\n",
        "print(message)"
      ],
      "metadata": {
        "id": "Y1-xRJS3ON4W"
      },
      "execution_count": null,
      "outputs": []
    },
    {
      "cell_type": "markdown",
      "source": [
        "# Nazwy zmiennych"
      ],
      "metadata": {
        "id": "yivLfLeAP8Di"
      }
    },
    {
      "cell_type": "code",
      "source": [
        "f = 'genes.tx'             # Nie OK\n",
        "filename = 'genes.txt'     # OK\n",
        "fn = 'genes.txt'           # Nie oK\n",
        "file_name = 'genes.txt'    # OK"
      ],
      "metadata": {
        "id": "G25KcyoTP-yE"
      },
      "execution_count": null,
      "outputs": []
    },
    {
      "cell_type": "markdown",
      "source": [
        "## Reguły prawidłowego nazewnictwa zmiennych\n",
        "\n",
        "1. Dopuszczalne znaki w nazwie zmiennych to litery, cyfry i  znak podkreślenia `_`.\n",
        "2. Pierwszy znak zmiennej nie może być cyfrą.\n",
        "3. Duże litery są odróżniane od małych liter.\n",
        "4. Nazwy zmiennych nie mogą być słowami kluczowymi danego języka programownie."
      ],
      "metadata": {
        "id": "3mb0a3UjaLOI"
      }
    },
    {
      "cell_type": "code",
      "source": [
        "FILENAME = 'genes.txt'\n",
        "filename = 'proteins.fasta'"
      ],
      "metadata": {
        "id": "RlE04D_8RIuM"
      },
      "execution_count": null,
      "outputs": []
    },
    {
      "cell_type": "markdown",
      "source": [
        "# Podstawowe typy danych (obiektów)"
      ],
      "metadata": {
        "id": "_-u_zlM_RWsg"
      }
    },
    {
      "cell_type": "code",
      "source": [
        "number = 4             # Liczby całkowite (integers), inty\n",
        "pi = 3.14              # Liczby zmiennoprzecinkowe (floating-point numbers),floaty\n",
        "message = 'Hello'      # Łańcuchy znaków (strings), stringi\n",
        "is_published = True    # Wartości boolowskie\n",
        "content = None         # None"
      ],
      "metadata": {
        "id": "X-OwOsKKRZxE"
      },
      "execution_count": null,
      "outputs": []
    }
  ]
}